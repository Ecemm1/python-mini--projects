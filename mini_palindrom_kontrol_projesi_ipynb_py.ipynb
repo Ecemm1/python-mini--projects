{
  "nbformat": 4,
  "nbformat_minor": 0,
  "metadata": {
    "colab": {
      "provenance": [],
      "authorship_tag": "ABX9TyNE/HulxJx54c+3+8M8oQ3N",
      "include_colab_link": true
    },
    "kernelspec": {
      "name": "python3",
      "display_name": "Python 3"
    },
    "language_info": {
      "name": "python"
    }
  },
  "cells": [
    {
      "cell_type": "markdown",
      "metadata": {
        "id": "view-in-github",
        "colab_type": "text"
      },
      "source": [
        "<a href=\"https://colab.research.google.com/github/Ecemm1/python-mini--projects/blob/main/mini_palindrom_kontrol_projesi_ipynb_py.ipynb\" target=\"_parent\"><img src=\"https://colab.research.google.com/assets/colab-badge.svg\" alt=\"Open In Colab\"/></a>"
      ]
    },
    {
      "cell_type": "code",
      "execution_count": 3,
      "metadata": {
        "colab": {
          "base_uri": "https://localhost:8080/"
        },
        "id": "g4MNWluoYGDB",
        "outputId": "d7f6ba04-4cae-498b-e89f-f19405af16ab"
      },
      "outputs": [
        {
          "output_type": "stream",
          "name": "stdout",
          "text": [
            "lütfen kontrol etmek istediğiniz ifadeyi giriniz:1ece1\n",
            "1ece1 bir palindromdur.\n"
          ]
        }
      ],
      "source": [
        "import string\n",
        "def palindrom_mu(metin:str)->bool:\n",
        "  kucuk_harfli_metin=metin.lower()\n",
        "  temiz_metin=\"\"\n",
        "  for karakter in kucuk_harfli_metin:\n",
        "    if karakter in string.ascii_letters:\n",
        "      temiz_metin+=karakter\n",
        "  return temiz_metin==temiz_metin[::-1]\n",
        "\n",
        "kullanici_girdisi=input(\"lütfen kontrol etmek istediğiniz ifadeyi giriniz:\")\n",
        "if palindrom_mu(kullanici_girdisi):\n",
        "  print(f\"{kullanici_girdisi} bir palindromdur.\")\n",
        "else:\n",
        "  print(f\"{kullanici_girdisi} bir palindrom değildir.\")\n",
        ""
      ]
    }
  ]
}