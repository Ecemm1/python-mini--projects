{
  "nbformat": 4,
  "nbformat_minor": 0,
  "metadata": {
    "colab": {
      "provenance": [],
      "authorship_tag": "ABX9TyOQHd0yYgUXMc9mO4gjsYYc",
      "include_colab_link": true
    },
    "kernelspec": {
      "name": "python3",
      "display_name": "Python 3"
    },
    "language_info": {
      "name": "python"
    }
  },
  "cells": [
    {
      "cell_type": "markdown",
      "metadata": {
        "id": "view-in-github",
        "colab_type": "text"
      },
      "source": [
        "<a href=\"https://colab.research.google.com/github/Ecemm1/python-mini--projects/blob/main/To_Do_List_py.ipynb\" target=\"_parent\"><img src=\"https://colab.research.google.com/assets/colab-badge.svg\" alt=\"Open In Colab\"/></a>"
      ]
    },
    {
      "cell_type": "code",
      "execution_count": 2,
      "metadata": {
        "colab": {
          "base_uri": "https://localhost:8080/"
        },
        "id": "oXbziw1hNq18",
        "outputId": "2dbf5f70-5430-4c87-ac2c-13ca506678fc"
      },
      "outputs": [
        {
          "output_type": "stream",
          "name": "stdout",
          "text": [
            "\n",
            "---------YAPILACAKLAR LİSTESİ---------\n",
            "1.Görev Ekle\n",
            "2.Görevleri Göster\n",
            "3.Görev Sil\n",
            "4.Çıkış\n",
            "-----------------------------------------\n",
            "Seçiminiz(1-4): 1\n",
            "Eklenecek görevi girin: tekrar yap\n",
            "Görev eklendi.\n",
            "\n",
            "---------YAPILACAKLAR LİSTESİ---------\n",
            "1.Görev Ekle\n",
            "2.Görevleri Göster\n",
            "3.Görev Sil\n",
            "4.Çıkış\n",
            "-----------------------------------------\n",
            "Seçiminiz(1-4): 2\n",
            "\n",
            "---------YAPILACAKLAR LİSTESİ---------\n",
            "1. tekrar yap\n",
            "-----------------------------------------\n",
            "\n",
            "---------YAPILACAKLAR LİSTESİ---------\n",
            "1.Görev Ekle\n",
            "2.Görevleri Göster\n",
            "3.Görev Sil\n",
            "4.Çıkış\n",
            "-----------------------------------------\n",
            "Seçiminiz(1-4): 3\n",
            "\n",
            "---------YAPILACAKLAR LİSTESİ---------\n",
            "1. tekrar yap\n",
            "-----------------------------------------\n",
            "Silmek istediğiniz görevin numarasını girin: 1\n",
            "'tekrar yap' görevi silindi.\n",
            "\n",
            "---------YAPILACAKLAR LİSTESİ---------\n",
            "1.Görev Ekle\n",
            "2.Görevleri Göster\n",
            "3.Görev Sil\n",
            "4.Çıkış\n",
            "-----------------------------------------\n",
            "Seçiminiz(1-4): 4\n",
            "Uygulamadan çıkılıyor...\n"
          ]
        }
      ],
      "source": [
        "gorev_listesi=[]\n",
        "\n",
        "def ana_menu_goster():\n",
        "  print(\"\\n---------YAPILACAKLAR LİSTESİ---------\")\n",
        "  print(\"1.Görev Ekle\")\n",
        "  print(\"2.Görevleri Göster\")\n",
        "  print(\"3.Görev Sil\")\n",
        "  print(\"4.Çıkış\")\n",
        "  print(\"-----------------------------------------\")\n",
        "\n",
        "def gorev_ekle():\n",
        "  gorev = input(\"Eklenecek görevi girin: \")\n",
        "  gorev_listesi.append(gorev)\n",
        "  print(\"Görev eklendi.\")\n",
        "\n",
        "def gorevleri_goster():\n",
        "  if not gorev_listesi:\n",
        "    print(\"Yapılacaklar listesi boş.\")\n",
        "    return\n",
        "  else:\n",
        "    print(\"\\n---------YAPILACAKLAR LİSTESİ---------\")\n",
        "    for index, gorev in enumerate(gorev_listesi):\n",
        "      print(f\"{index + 1}. {gorev}\")\n",
        "    print(\"-----------------------------------------\")\n",
        "\n",
        "def gorev_sil():\n",
        "  gorevleri_goster()\n",
        "  if gorev_listesi:\n",
        "    silinecek_index = input(\"Silmek istediğiniz görevin numarasını girin: \")\n",
        "    try:\n",
        "      silinecek_index = int(silinecek_index) - 1\n",
        "      if 0 <= silinecek_index < len(gorev_listesi):\n",
        "        silinen_gorev = gorev_listesi.pop(silinecek_index)\n",
        "        print(f\"'{silinen_gorev}' görevi silindi.\")\n",
        "      else:\n",
        "        print(\"Geçersiz görev numarası.\")\n",
        "    except ValueError:\n",
        "      print(\"Geçersiz giriş. Lütfen bir sayı girin.\")\n",
        "\n",
        "\n",
        "def uygulamayi_baslat():\n",
        "  while True:\n",
        "    ana_menu_goster()\n",
        "    secim=input(\"Seçiminiz(1-4): \")\n",
        "    if secim==\"1\":\n",
        "      gorev_ekle()\n",
        "    elif secim==\"2\":\n",
        "      gorevleri_goster()\n",
        "    elif secim==\"3\":\n",
        "      gorev_sil()\n",
        "    elif secim==\"4\":\n",
        "      print(\"Uygulamadan çıkılıyor...\")\n",
        "      break\n",
        "    else:\n",
        "      print(\"Geçersiz seçim. Tekrar deneyin.\")\n",
        "\n",
        "\n",
        "\n",
        "uygulamayi_baslat()"
      ]
    }
  ]
}