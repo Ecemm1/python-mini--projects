{
  "nbformat": 4,
  "nbformat_minor": 0,
  "metadata": {
    "colab": {
      "provenance": [],
      "authorship_tag": "ABX9TyPBQiF1TQrekHDiXn9O6TjS",
      "include_colab_link": true
    },
    "kernelspec": {
      "name": "python3",
      "display_name": "Python 3"
    },
    "language_info": {
      "name": "python"
    }
  },
  "cells": [
    {
      "cell_type": "markdown",
      "metadata": {
        "id": "view-in-github",
        "colab_type": "text"
      },
      "source": [
        "<a href=\"https://colab.research.google.com/github/Ecemm1/python-mini--projects/blob/main/inventory_management_mini_project_py.ipynb\" target=\"_parent\"><img src=\"https://colab.research.google.com/assets/colab-badge.svg\" alt=\"Open In Colab\"/></a>"
      ]
    },
    {
      "cell_type": "code",
      "metadata": {
        "colab": {
          "base_uri": "https://localhost:8080/"
        },
        "id": "d93kk3Sq47MR",
        "outputId": "cf5f5efb-9716-4e14-a5ae-7c644ebb79ae"
      },
      "source": [
        "envanter={}\n",
        "def urun_ekle():\n",
        "  urun_adi=input(\"Eklenecek ürünün adı:\").strip().capitalize()\n",
        "  if urun_adi in envanter:\n",
        "    print(f\"HATA:'{urun_adi}'zaten envanterde mevcut!\")\n",
        "    return\n",
        "\n",
        "  try:\n",
        "    adet=int(input(f\"{urun_adi} için stok adeti:\"))\n",
        "    fiyat=float(input(f\"{urun_adi} için birim fiyatı:\"))\n",
        "    envanter[urun_adi]={\"adet\":adet,\"fiyat\":fiyat}\n",
        "    print(f\"BAŞARILI: '{urun_adi}' envanterine eklendi!\")\n",
        "  except ValueError:\n",
        "    print(\"HATA: Stok adeti veya birim fiyatı sayısal bir değer olmalıdır.\")\n",
        "\n",
        "def urun_sil():\n",
        "  urun_adi=input(\"Silinecek ürünün adı:\").strip().capitalize()\n",
        "  if urun_adi in envanter:\n",
        "    del envanter[urun_adi]\n",
        "    print(f\"BAŞARILI: '{urun_adi}' envanterden silindi!\")\n",
        "  else:\n",
        "    print(f\"HATA: '{urun_adi}' envanterde bulunmuyor!\")\n",
        "\n",
        "\n",
        "def urun_guncelle():\n",
        "  urun_adi=input(\"Güncellenecek ürünün adı:\").strip().capitalize()\n",
        "  if urun_adi not in envanter:\n",
        "    print(f\"HATA: '{urun_adi}' envanterde bulunmuyor!\")\n",
        "    return\n",
        "  try:\n",
        "    yeni_adet=int(input(f\"{urun_adi} için yeni stok adeti:\"))\n",
        "    yeni_fiyat=float(input(f\"{urun_adi} için yeni birim fiyatı:\"))\n",
        "    envanter[urun_adi][\"adet\"]=yeni_adet\n",
        "    envanter[urun_adi][\"fiyat\"]=yeni_fiyat\n",
        "    print(f\"BAŞARILI: '{urun_adi}' envanterindeki bilgileri güncellendi!\")\n",
        "    degisim=int(input(f\"Stok değişimi:\"))\n",
        "    if degisim > 0:\n",
        "      envanter[urun_adi][\"adet\"] += degisim\n",
        "      print(f\"{urun_adi} için stok miktarı {degisim} artarak güncellendi!\")\n",
        "    else:\n",
        "      envanter[urun_adi][\"adet\"] += degisim # veya -= abs(degisim)\n",
        "      print(f\"{urun_adi} için stok miktarı {abs(degisim)} azaltıldı!\")\n",
        "\n",
        "  except ValueError:\n",
        "    print(\"HATA: Stok adeti, birim fiyatı veya stok değişimi sayısal bir değer olmalıdır.\")\n",
        "\n",
        "\n",
        "while True:\n",
        "  print(\"\\nEnvanter Yönetimi Menüsü:\")\n",
        "  print(\"1. Ürün Ekle\")\n",
        "  print(\"2. Ürün Sil\")\n",
        "  print(\"3. Ürün Güncelle\")\n",
        "  print(\"4. Çıkış\")\n",
        "\n",
        "  secim=input(\"Lütfen seçiminizi yapınız (1/2/3/4):\")\n",
        "  if secim==\"1\":\n",
        "    urun_ekle()\n",
        "  elif secim==\"2\":\n",
        "    urun_sil()\n",
        "  elif secim==\"3\":\n",
        "    urun_guncelle()\n",
        "  elif secim==\"4\":\n",
        "    print(\"Çıkış yapılıyor...\")\n",
        "    break\n",
        "  else:\n",
        "    print(\"HATA:Geçersiz seçim. Lütfen Menüden bir numara giriniz!\")"
      ],
      "execution_count": 5,
      "outputs": [
        {
          "output_type": "stream",
          "name": "stdout",
          "text": [
            "\n",
            "Envanter Yönetimi Menüsü:\n",
            "1. Ürün Ekle\n",
            "2. Ürün Sil\n",
            "3. Ürün Güncelle\n",
            "4. Çıkış\n",
            "Lütfen seçiminizi yapınız (1/2/3/4):1\n",
            "Eklenecek ürünün adı:kalem\n",
            "Kalem için stok adeti:56\n",
            "Kalem için birim fiyatı:10\n",
            "BAŞARILI: 'Kalem' envanterine eklendi!\n",
            "\n",
            "Envanter Yönetimi Menüsü:\n",
            "1. Ürün Ekle\n",
            "2. Ürün Sil\n",
            "3. Ürün Güncelle\n",
            "4. Çıkış\n",
            "Lütfen seçiminizi yapınız (1/2/3/4):3\n",
            "Güncellenecek ürünün adı:silgi\n",
            "HATA: 'Silgi' envanterde bulunmuyor!\n",
            "\n",
            "Envanter Yönetimi Menüsü:\n",
            "1. Ürün Ekle\n",
            "2. Ürün Sil\n",
            "3. Ürün Güncelle\n",
            "4. Çıkış\n",
            "Lütfen seçiminizi yapınız (1/2/3/4):2\n",
            "Silinecek ürünün adı:kalem\n",
            "BAŞARILI: 'Kalem' envanterden silindi!\n",
            "\n",
            "Envanter Yönetimi Menüsü:\n",
            "1. Ürün Ekle\n",
            "2. Ürün Sil\n",
            "3. Ürün Güncelle\n",
            "4. Çıkış\n",
            "Lütfen seçiminizi yapınız (1/2/3/4):4\n",
            "Çıkış yapılıyor...\n"
          ]
        }
      ]
    }
  ]
}