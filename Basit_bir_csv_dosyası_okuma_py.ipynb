{
  "nbformat": 4,
  "nbformat_minor": 0,
  "metadata": {
    "colab": {
      "provenance": [],
      "authorship_tag": "ABX9TyMOGkomvWgfVUk3HkOTXyDm",
      "include_colab_link": true
    },
    "kernelspec": {
      "name": "python3",
      "display_name": "Python 3"
    },
    "language_info": {
      "name": "python"
    }
  },
  "cells": [
    {
      "cell_type": "markdown",
      "metadata": {
        "id": "view-in-github",
        "colab_type": "text"
      },
      "source": [
        "<a href=\"https://colab.research.google.com/github/Ecemm1/python-mini--projects/blob/main/Basit_bir_csv_dosyas%C4%B1_okuma_py.ipynb\" target=\"_parent\"><img src=\"https://colab.research.google.com/assets/colab-badge.svg\" alt=\"Open In Colab\"/></a>"
      ]
    },
    {
      "cell_type": "code",
      "execution_count": 8,
      "metadata": {
        "colab": {
          "base_uri": "https://localhost:8080/"
        },
        "id": "KIcGv7rNljX7",
        "outputId": "0b30a74a-898c-4265-d3dd-48f2d516fb4d"
      },
      "outputs": [
        {
          "output_type": "stream",
          "name": "stdout",
          "text": [
            "Analiz başlıyor...\n",
            "\n",
            "Analiz tamamlandı.\n",
            "Toplam gelir: 492.50 TL\n",
            "En çok satılan ürün: Silgi\n",
            "Ürün satış adetleri:\n",
            "Kalem: 10 adet\n",
            "Defter: 6 adet\n",
            "Silgi: 15 adet\n",
            "Bant: 1 adet\n"
          ]
        }
      ],
      "source": [
        "import csv\n",
        "\n",
        "def csv_analiz_et(dosya_yolu:str):\n",
        "  print(\"Analiz başlıyor...\")\n",
        "\n",
        "  toplam_gelir=0.0\n",
        "  urun_satis_adetleri={}\n",
        "\n",
        "  try:\n",
        "      with open(dosya_yolu, 'r',encoding=\"utf-8\") as dosya:\n",
        "        okuyucu = csv.reader(dosya)\n",
        "        next(okuyucu) # Başlık satırını atla\n",
        "        for satir in okuyucu:\n",
        "          try:\n",
        "            # ABirimFiyat değerlerini float'a çevir, hatalı değerleri 0 yap\n",
        "            adet = int(satir[2]) if satir[2] else 0\n",
        "            gelir = float(satir[3]) if satir[3] else 0.0\n",
        "            urun = satir[1]\n",
        "\n",
        "            satir_geliri = adet * gelir\n",
        "            toplam_gelir += satir_geliri\n",
        "\n",
        "            if urun in urun_satis_adetleri:\n",
        "              urun_satis_adetleri[urun] += adet\n",
        "            else:\n",
        "              urun_satis_adetleri[urun] = adet\n",
        "          except (ValueError, IndexError) as e:\n",
        "            print(f\"Satır işlenirken hata oluştu: {satir}. Hata: {e}\")\n",
        "            continue # Hatalı satırı atla\n",
        "\n",
        "      print(\"\\nAnaliz tamamlandı.\")\n",
        "      print(f\"Toplam gelir: {toplam_gelir:.2f} TL\")\n",
        "      if urun_satis_adetleri: # Ürün satış adetleri boş değilse en çok satılanı bul\n",
        "          en_çok_satılan_urun = max(urun_satis_adetleri, key=urun_satis_adetleri.get)\n",
        "          print(f\"En çok satılan ürün: {en_çok_satılan_urun}\")\n",
        "          print(\"Ürün satış adetleri:\")\n",
        "          for urun, adet in urun_satis_adetleri.items():\n",
        "            print(f\"{urun}: {adet} adet\")\n",
        "      else:\n",
        "          print(\"Analiz edilecek geçerli satış verisi bulunamadı.\")\n",
        "\n",
        "\n",
        "  except FileNotFoundError:\n",
        "    print(\"Dosya bulunamadı.\")\n",
        "  except Exception as e:\n",
        "    print(f\"Genel bir hata oluştu: {e}\")\n",
        "\n",
        "\n",
        "csv_dosyasi_yolu = 'satislar.csv'\n",
        "csv_analiz_et(csv_dosyasi_yolu)"
      ]
    }
  ]
}